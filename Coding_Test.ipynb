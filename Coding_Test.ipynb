{
 "cells": [
  {
   "cell_type": "markdown",
   "id": "428e2e53",
   "metadata": {},
   "source": [
    "# Solve for TSP(Travelling Sales Person) of 5 cities & Consider the data points of the city as random value "
   ]
  },
  {
   "cell_type": "code",
   "execution_count": 7,
   "id": "27ffe7c8",
   "metadata": {},
   "outputs": [
    {
     "name": "stdout",
     "output_type": "stream",
     "text": [
      "Random Distances between Cities:\n",
      "[0, 79, 19, 88, 44]\n",
      "[79, 0, 98, 29, 78]\n",
      "[19, 98, 0, 48, 56]\n",
      "[88, 29, 48, 0, 97]\n",
      "[44, 78, 56, 97, 0]\n",
      "\n",
      "Best Route: [0, 2, 3, 1, 4]\n",
      "Minimum Distance: 218\n"
     ]
    }
   ],
   "source": [
    "import random\n",
    "\n",
    "def calculate_total_distance(route, distances):\n",
    "    total_distance = 0\n",
    "    for i in range(len(route) - 1):\n",
    "        total_distance += distances[route[i]][route[i + 1]]\n",
    "    total_distance += distances[route[-1]][route[0]] \n",
    "    return total_distance\n",
    "\n",
    "def generate_all_routes(current_route, remaining_cities, all_routes, distances):\n",
    "    if not remaining_cities:\n",
    "        total_distance = calculate_total_distance(current_route, distances)\n",
    "        all_routes.append((current_route, total_distance))\n",
    "    else:\n",
    "        for city in remaining_cities:\n",
    "            next_route = current_route + [city]\n",
    "            next_remaining = [c for c in remaining_cities if c != city]\n",
    "            generate_all_routes(next_route, next_remaining, all_routes, distances)\n",
    "\n",
    "def traveling_salesman_recursive(distances):\n",
    "    cities = len(distances)\n",
    "    all_routes = []\n",
    "\n",
    "    for start_city in range(cities):\n",
    "        remaining_cities = [city for city in range(cities) if city != start_city]\n",
    "        generate_all_routes([start_city], remaining_cities, all_routes, distances)\n",
    "\n",
    "    best_route, min_distance = min(all_routes, key=lambda x: x[1])\n",
    "    return best_route, min_distance\n",
    "\n",
    "def generate_random_distances(num_cities):\n",
    "    distances = [[0] * num_cities for _ in range(num_cities)]\n",
    "    for i in range(num_cities):\n",
    "        for j in range(i + 1, num_cities):\n",
    "            distances[i][j] = distances[j][i] = random.randint(1, 100)\n",
    "    return distances\n",
    "\n",
    "if __name__ == \"__main__\":\n",
    "    num_cities = 5\n",
    "    distances = generate_random_distances(num_cities)\n",
    "\n",
    "    print(\"Random Distances between Cities:\")\n",
    "    for row in distances:\n",
    "        print(row)\n",
    "    best_route, min_distance = traveling_salesman_recursive(distances)\n",
    "\n",
    "    print(\"\\nBest Route:\", best_route)\n",
    "    print(\"Minimum Distance:\", min_distance)\n"
   ]
  },
  {
   "cell_type": "markdown",
   "id": "edf97c03",
   "metadata": {},
   "source": [
    "# Implement stack algorithm for any real time usecase"
   ]
  },
  {
   "cell_type": "code",
   "execution_count": 6,
   "id": "3e590609",
   "metadata": {},
   "outputs": [
    {
     "name": "stdout",
     "output_type": "stream",
     "text": [
      "Visiting page: Home\n",
      "Visiting page: About\n",
      "Visiting page: Contact\n",
      "\n",
      "Going back to page: About\n",
      "\n",
      "Stack Size: 3\n",
      "Top of Stack: 3\n",
      "\n",
      "Popped Item: 3\n",
      "Stack Size after Pop: 2\n",
      "\n",
      "Going back to page: Home\n"
     ]
    }
   ],
   "source": [
    "class Stack:\n",
    "    def __init__(self):\n",
    "        self.items = []\n",
    "\n",
    "    def is_empty(self):\n",
    "        return len(self.items) == 0\n",
    "\n",
    "    def push(self, item):\n",
    "        self.items.append(item)\n",
    "\n",
    "    def pop(self):\n",
    "        if not self.is_empty():\n",
    "            return self.items.pop()\n",
    "\n",
    "    def peek(self):\n",
    "        if not self.is_empty():\n",
    "            return self.items[-1]\n",
    "\n",
    "    def size(self):\n",
    "        return len(self.items)\n",
    "\n",
    "class Browser:\n",
    "    def __init__(self):\n",
    "        self.history_stack = Stack()\n",
    "        self.current_page = None\n",
    "\n",
    "    def visit_page(self, page):\n",
    "        print(f\"Visiting page: {page}\")\n",
    "        self.history_stack.push(self.current_page)\n",
    "        self.current_page = page\n",
    "\n",
    "    def go_back(self):\n",
    "        if not self.history_stack.is_empty():\n",
    "            previous_page = self.history_stack.pop()\n",
    "            print(f\"\\nGoing back to page: {previous_page}\")\n",
    "            self.current_page = previous_page\n",
    "        else:\n",
    "            print(\"No more pages to go back to.\")\n",
    "\n",
    "browser = Browser()\n",
    "browser.visit_page(\"Home\")\n",
    "browser.visit_page(\"About\")\n",
    "browser.visit_page(\"Contact\")\n",
    "browser.go_back()\n",
    "\n",
    "my_stack = Stack()\n",
    "my_stack.push(1)\n",
    "my_stack.push(2)\n",
    "my_stack.push(3)\n",
    "\n",
    "print(\"\\nStack Size:\", my_stack.size())\n",
    "print(\"Top of Stack:\", my_stack.peek())\n",
    "\n",
    "popped_item = my_stack.pop()\n",
    "print(\"\\nPopped Item:\", popped_item)\n",
    "print(\"Stack Size after Pop:\", my_stack.size())\n",
    "\n",
    "browser.go_back()\n"
   ]
  },
  {
   "cell_type": "code",
   "execution_count": null,
   "id": "c9a97a06",
   "metadata": {},
   "outputs": [],
   "source": [
    "##Thanks to MudrikKaushik Sir                                     --from DIV -6B6  (210303124152-Addanki Virinchi)"
   ]
  }
 ],
 "metadata": {
  "kernelspec": {
   "display_name": "Python 3 (ipykernel)",
   "language": "python",
   "name": "python3"
  },
  "language_info": {
   "codemirror_mode": {
    "name": "ipython",
    "version": 3
   },
   "file_extension": ".py",
   "mimetype": "text/x-python",
   "name": "python",
   "nbconvert_exporter": "python",
   "pygments_lexer": "ipython3",
   "version": "3.9.13"
  }
 },
 "nbformat": 4,
 "nbformat_minor": 5
}
